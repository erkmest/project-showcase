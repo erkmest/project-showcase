{
 "cells": [
  {
   "cell_type": "code",
   "execution_count": null,
   "id": "78bb0d34-1b04-4c9e-b491-00404db611ec",
   "metadata": {},
   "outputs": [],
   "source": [
    "import numpy as np\n",
    "import pandas as pd\n",
    "import matplotlib.pyplot as plt \n",
    "import seaborn as sns\n",
    "\n",
    "%matplotlib inline"
   ]
  },
  {
   "cell_type": "code",
   "execution_count": null,
   "id": "079a24ba-4d40-45b7-8814-4af101c180d0",
   "metadata": {},
   "outputs": [],
   "source": [
    "cs_df = pd.read_csv(\"data\")"
   ]
  },
  {
   "cell_type": "code",
   "execution_count": null,
   "id": "83c25f19-f644-41d0-9f66-21c9cabe747b",
   "metadata": {},
   "outputs": [],
   "source": [
    "cs_df.head(5)"
   ]
  },
  {
   "cell_type": "code",
   "execution_count": null,
   "id": "319d5f72-f244-4557-9485-fe2642d01524",
   "metadata": {},
   "outputs": [],
   "source": [
    "crash_df = sns.load_dataset('car_crashes')\n",
    "crash_df.head(5)"
   ]
  },
  {
   "cell_type": "code",
   "execution_count": null,
   "id": "18fe1121-2331-4fb4-81f5-edf79cc61fce",
   "metadata": {},
   "outputs": [],
   "source": [
    "sns.histplot(crash_df['not_distracted'], kde = True, bins= 20);   #kde adds a density curve"
   ]
  },
  {
   "cell_type": "code",
   "execution_count": null,
   "id": "abdc5d3d-08f2-459f-89a1-44510a52cfa9",
   "metadata": {},
   "outputs": [],
   "source": [
    "sns.jointplot(x = 'speeding', y = 'alcohol', data = crash_df, kind = 'hex')   #kind = 'kde', 'reg'"
   ]
  },
  {
   "cell_type": "code",
   "execution_count": null,
   "id": "546cbbd8-9944-466b-af5f-dc6e805c9866",
   "metadata": {},
   "outputs": [],
   "source": [
    "sns.kdeplot(crash_df['alcohol']);"
   ]
  },
  {
   "cell_type": "code",
   "execution_count": null,
   "id": "c21b132d-6551-466e-9f3a-6c9412df9a42",
   "metadata": {},
   "outputs": [],
   "source": [
    "# Pair Plot\n",
    "\n",
    "sns.pairplot(crash_df)"
   ]
  },
  {
   "cell_type": "code",
   "execution_count": null,
   "id": "b1ef6904-8b5c-45d7-ab99-f4004aa3041d",
   "metadata": {},
   "outputs": [],
   "source": [
    "tips_df = sns.load_dataset('tips')\n",
    "\n",
    "sns.pairplot(tips_df, hue = 'sex', palette= 'Blues')"
   ]
  },
  {
   "cell_type": "code",
   "execution_count": null,
   "id": "af72e448-8bcc-4cb1-9f1c-75e81699a35b",
   "metadata": {},
   "outputs": [],
   "source": [
    "## Rug plot\n",
    "\n",
    "sns.rugplot(tips_df['tip']);"
   ]
  },
  {
   "cell_type": "code",
   "execution_count": null,
   "id": "5fdd0233-d537-4e44-9bcc-b2a76875fa67",
   "metadata": {},
   "outputs": [],
   "source": [
    "sns.set_style('darkgrid')  #whitegrid, dark, ticks\n",
    "\n",
    "plt.figure(figsize = (8,4))\n",
    "\n",
    "sns.set_context('paper', font_scale =1.5)\n",
    "\n",
    "sns.jointplot(x = 'speeding', y = 'alcohol', data = crash_df, kind = 'scatter')  #kind = kde, history, hex, reg, resid, scatter\n",
    "\n",
    "sns.despine(left = True, right = False, top = False)"
   ]
  },
  {
   "cell_type": "code",
   "execution_count": null,
   "id": "4b313953-ff0c-4e19-a871-21fef1d236d8",
   "metadata": {},
   "outputs": [],
   "source": [
    "sns.barplot(x= 'sex', y = 'total_bill', data=tips_df, estimator = np.var)   #cov"
   ]
  },
  {
   "cell_type": "code",
   "execution_count": null,
   "id": "05e264ce-3a3d-4727-8cfb-4c42d60d7ea4",
   "metadata": {},
   "outputs": [],
   "source": [
    "tips = sns.load_dataset('tips')\n",
    "iris = sns.load_dataset('iris')"
   ]
  },
  {
   "cell_type": "code",
   "execution_count": null,
   "id": "a34aa018-75b8-49aa-8609-be6eec50de1e",
   "metadata": {},
   "outputs": [],
   "source": [
    "tips.head(5)"
   ]
  },
  {
   "cell_type": "code",
   "execution_count": null,
   "id": "6cd2a50b-1c16-48ca-b815-4845721b978b",
   "metadata": {},
   "outputs": [],
   "source": [
    "sns.scatterplot(x = 'tip', y = 'total_bill', data = tips, hue = 'day', size = 'size', palette = 'coolwarm')"
   ]
  },
  {
   "cell_type": "code",
   "execution_count": null,
   "id": "b70298f3-5fda-4013-8637-dac09dd49332",
   "metadata": {},
   "outputs": [],
   "source": [
    "sns.histplot(tips['tip'], kde = True, bins = 15, alpha = 0.3);"
   ]
  },
  {
   "cell_type": "code",
   "execution_count": null,
   "id": "02806e9c-a430-4adb-bada-0d7f98fd2a79",
   "metadata": {},
   "outputs": [],
   "source": [
    "sns.displot(tips['tip'], kde = True, bins = 15, alpha = 0.3);"
   ]
  },
  {
   "cell_type": "code",
   "execution_count": null,
   "id": "0c277adc-9a6f-4d0f-bedf-935f43c4c872",
   "metadata": {},
   "outputs": [],
   "source": [
    "sns.boxplot(x = 'day', y = 'tip', data = tips, hue = 'sex', palette = 'YlGnBu');"
   ]
  },
  {
   "cell_type": "code",
   "execution_count": null,
   "id": "85d452bd-073c-47e2-838c-8f5079e6b7fe",
   "metadata": {},
   "outputs": [],
   "source": []
  },
  {
   "cell_type": "code",
   "execution_count": null,
   "id": "d3bc3a7f-a6de-4031-acb2-21767d1945b3",
   "metadata": {},
   "outputs": [],
   "source": [
    "sns.boxplot(x = 'day', y = 'tip', data = tips, hue = 'sex', palette = 'YlGnBu');"
   ]
  },
  {
   "cell_type": "code",
   "execution_count": null,
   "id": "df284aff-efc8-467a-a6bf-fb27186d9840",
   "metadata": {},
   "outputs": [],
   "source": [
    "flowers_df = sns.load_dataset(\"iris\")\n",
    "\n",
    "flowers_df.head()"
   ]
  },
  {
   "cell_type": "code",
   "execution_count": null,
   "id": "965e63f2-2412-4c4d-bb24-e11a09fa9f45",
   "metadata": {},
   "outputs": [],
   "source": [
    "flowers_df.species.unique()"
   ]
  },
  {
   "cell_type": "code",
   "execution_count": null,
   "id": "d6c7b2a8-5e48-4529-a9a1-832601832fc6",
   "metadata": {},
   "outputs": [],
   "source": [
    "sns.scatterplot(x = flowers_df.sepal_length, y = flowers_df.sepal_width);"
   ]
  },
  {
   "cell_type": "code",
   "execution_count": null,
   "id": "6bbf174c-2605-4a5b-bca0-473a89a22625",
   "metadata": {},
   "outputs": [],
   "source": [
    "plt.scatter(flowers_df.sepal_length, flowers_df.sepal_width);"
   ]
  },
  {
   "cell_type": "code",
   "execution_count": null,
   "id": "8763c5e6-8af0-4527-bcbb-bcb4f90d928e",
   "metadata": {},
   "outputs": [],
   "source": [
    "sns.scatterplot(x = flowers_df.sepal_length, y = flowers_df.sepal_width,\n",
    "               hue = flowers_df.species, s = 30);"
   ]
  },
  {
   "cell_type": "code",
   "execution_count": null,
   "id": "22786b00-c938-420f-95bd-2761cc7b6f9c",
   "metadata": {},
   "outputs": [],
   "source": [
    "sns.scatterplot(x = 'sepal_length', y = 'sepal_width', data = flowers_df);"
   ]
  },
  {
   "cell_type": "code",
   "execution_count": null,
   "id": "2c3c966e-7aa1-445f-914a-6ea4b1d7589d",
   "metadata": {},
   "outputs": [],
   "source": [
    "plt.title(\"Flowers Distribution\")\n",
    "plt.hist(flowers_df.sepal_width);"
   ]
  },
  {
   "cell_type": "code",
   "execution_count": null,
   "id": "45d90c6a-f20a-4bdf-b63f-36f9349edd7a",
   "metadata": {},
   "outputs": [],
   "source": [
    "np.arange(2, 5, 0.25)"
   ]
  },
  {
   "cell_type": "code",
   "execution_count": null,
   "id": "6c0d0308-9323-419e-bccf-82eda2bdac7d",
   "metadata": {},
   "outputs": [],
   "source": [
    "plt.hist(flowers_df.sepal_width, bins = np.arange(2, 5, 0.25));"
   ]
  },
  {
   "cell_type": "code",
   "execution_count": null,
   "id": "d5f9ac65-5d02-496e-8f9c-81b5cca86c0f",
   "metadata": {},
   "outputs": [],
   "source": [
    "years = [2001, 2002, 2003]\n",
    "oranges = [545, 756, 945]"
   ]
  },
  {
   "cell_type": "code",
   "execution_count": null,
   "id": "ff1e6448-b776-47f8-8795-391a57f50ffa",
   "metadata": {},
   "outputs": [],
   "source": [
    "plt.bar(years, oranges);\n",
    "plt.plot(years, oranges, 'o--r');\n",
    "plt.title('Yield chart')"
   ]
  },
  {
   "cell_type": "code",
   "execution_count": null,
   "id": "e617513f-8d96-47ba-8627-fa6954374b09",
   "metadata": {},
   "outputs": [],
   "source": [
    "tips_df.head()"
   ]
  },
  {
   "cell_type": "code",
   "execution_count": null,
   "id": "bf5f2508-f3d1-4d9c-b931-cb1466dcc8ed",
   "metadata": {},
   "outputs": [],
   "source": [
    "bill_ave_df = tips_df.groupby('day')[['total_bill']].mean()\n",
    "bill_ave_df"
   ]
  },
  {
   "cell_type": "code",
   "execution_count": null,
   "id": "6518c62c-1cfb-4c81-b289-c387259b7e26",
   "metadata": {},
   "outputs": [],
   "source": [
    "plt.bar(bill_ave_df.index, bill_ave_df.total_bill)"
   ]
  },
  {
   "cell_type": "code",
   "execution_count": null,
   "id": "b4e29feb-1d6c-482a-98c6-45eb93d004f6",
   "metadata": {},
   "outputs": [],
   "source": [
    "sns.barplot(x ='day', y ='total_bill', data = tips_df);"
   ]
  },
  {
   "cell_type": "code",
   "execution_count": null,
   "id": "c84ce055-b628-434b-b7a5-2f105c58c52e",
   "metadata": {},
   "outputs": [],
   "source": [
    "sns.barplot(x ='day', y ='total_bill', data = tips_df, errorbar = ('ci', 68));"
   ]
  },
  {
   "cell_type": "code",
   "execution_count": null,
   "id": "65157abb-e596-4653-8444-880b674d79eb",
   "metadata": {},
   "outputs": [],
   "source": [
    "sns.barplot(x ='day', y ='total_bill', data = tips_df, errorbar = None);"
   ]
  },
  {
   "cell_type": "code",
   "execution_count": null,
   "id": "91bc6bcb-332a-4962-aae7-3afc8fff92a7",
   "metadata": {},
   "outputs": [],
   "source": [
    "sns.barplot(x = 'day', y ='total_bill', hue = 'sex', data = tips_df);"
   ]
  },
  {
   "cell_type": "code",
   "execution_count": null,
   "id": "c45e6b49-260f-4d65-9181-93047df89033",
   "metadata": {},
   "outputs": [],
   "source": [
    "sns.barplot(y = 'day', x ='total_bill', hue = 'sex', data = tips_df);"
   ]
  },
  {
   "cell_type": "code",
   "execution_count": null,
   "id": "8c1f2732-3f53-43c8-a0e0-021d47226454",
   "metadata": {},
   "outputs": [],
   "source": [
    "flight_df = sns.load_dataset(\"flights\")"
   ]
  },
  {
   "cell_type": "code",
   "execution_count": null,
   "id": "eea794b1-1a20-458f-a2b8-e11565b1910c",
   "metadata": {},
   "outputs": [],
   "source": [
    "flight_df"
   ]
  },
  {
   "cell_type": "code",
   "execution_count": null,
   "id": "06d24c8b-c5bb-4068-a8f4-bf0053755e57",
   "metadata": {},
   "outputs": [],
   "source": [
    "flight_pivot = flight_df.pivot(index ='month', columns ='year', values ='passengers')\n",
    "\n",
    "flight_pivot"
   ]
  },
  {
   "cell_type": "code",
   "execution_count": null,
   "id": "7469ce9f-8218-4cdc-8fb1-b3a992d471c8",
   "metadata": {},
   "outputs": [],
   "source": [
    "sns.heatmap(flight_pivot);"
   ]
  },
  {
   "cell_type": "code",
   "execution_count": null,
   "id": "26e91590-3ca8-4f05-838d-b7d633081591",
   "metadata": {},
   "outputs": [],
   "source": [
    "plt.figure(figsize = (9, 5,))\n",
    "\n",
    "sns.heatmap(flight_pivot, annot = True, fmt = 'd', cmap = 'Blues')\n",
    "plt.xticks(rotation=45)  # Rotate x-axis labels\n",
    "plt.yticks(rotation=0) \n",
    "\n",
    "plt.show()"
   ]
  },
  {
   "cell_type": "code",
   "execution_count": null,
   "id": "bafc9d73-6e5b-4e73-b4ee-2459819dad7d",
   "metadata": {},
   "outputs": [],
   "source": []
  },
  {
   "cell_type": "code",
   "execution_count": null,
   "id": "6aa1eab6-c8f0-4fc6-9be1-e0aa00bb89ab",
   "metadata": {},
   "outputs": [],
   "source": []
  },
  {
   "cell_type": "code",
   "execution_count": null,
   "id": "28344d3d-4896-4d6b-a862-5fb8869c1412",
   "metadata": {},
   "outputs": [],
   "source": []
  },
  {
   "cell_type": "code",
   "execution_count": null,
   "id": "93ff8cc1-2c3c-4f1c-adac-a6d4e03e5b69",
   "metadata": {},
   "outputs": [],
   "source": []
  },
  {
   "cell_type": "code",
   "execution_count": null,
   "id": "e225aa99-9908-436e-b670-ae1fd0b6237d",
   "metadata": {},
   "outputs": [],
   "source": []
  },
  {
   "cell_type": "code",
   "execution_count": null,
   "id": "384a5047-f999-436a-a366-0a5687c51463",
   "metadata": {},
   "outputs": [],
   "source": []
  },
  {
   "cell_type": "code",
   "execution_count": null,
   "id": "42d3e801-6b8b-403a-ae2e-fdea1261d576",
   "metadata": {},
   "outputs": [],
   "source": []
  },
  {
   "cell_type": "code",
   "execution_count": null,
   "id": "47e836f2-7ce7-4961-9d59-f984ca28e6e6",
   "metadata": {},
   "outputs": [],
   "source": []
  },
  {
   "cell_type": "code",
   "execution_count": null,
   "id": "4b24eb67-2bab-4c99-a7c7-845f326d7062",
   "metadata": {},
   "outputs": [],
   "source": []
  },
  {
   "cell_type": "code",
   "execution_count": null,
   "id": "dd3ea043-a39a-48b8-a133-275b6d9a0c8b",
   "metadata": {},
   "outputs": [],
   "source": []
  },
  {
   "cell_type": "code",
   "execution_count": null,
   "id": "d8504436-e096-4d71-bd35-8cd9134464ef",
   "metadata": {},
   "outputs": [],
   "source": []
  },
  {
   "cell_type": "code",
   "execution_count": null,
   "id": "a5057b8c-d289-44c7-aab2-f1edfdd62eb9",
   "metadata": {},
   "outputs": [],
   "source": []
  },
  {
   "cell_type": "code",
   "execution_count": null,
   "id": "461c16d0-56b5-40af-85cf-9bdfc77da4f8",
   "metadata": {},
   "outputs": [],
   "source": []
  },
  {
   "cell_type": "code",
   "execution_count": null,
   "id": "9e7aea07-aa81-4416-8b53-78cfc42e6993",
   "metadata": {},
   "outputs": [],
   "source": []
  },
  {
   "cell_type": "code",
   "execution_count": null,
   "id": "c3983aed-07f1-4628-bb98-8788183856cc",
   "metadata": {},
   "outputs": [],
   "source": []
  },
  {
   "cell_type": "code",
   "execution_count": null,
   "id": "cdb93177-91ed-4e92-8117-1fea87ece7f9",
   "metadata": {},
   "outputs": [],
   "source": []
  },
  {
   "cell_type": "code",
   "execution_count": null,
   "id": "c49790e3-5e06-4cc6-a4d0-4b181b8d421f",
   "metadata": {},
   "outputs": [],
   "source": []
  }
 ],
 "metadata": {
  "kernelspec": {
   "display_name": "Python 3 (ipykernel)",
   "language": "python",
   "name": "python3"
  },
  "language_info": {
   "codemirror_mode": {
    "name": "ipython",
    "version": 3
   },
   "file_extension": ".py",
   "mimetype": "text/x-python",
   "name": "python",
   "nbconvert_exporter": "python",
   "pygments_lexer": "ipython3",
   "version": "3.12.6"
  }
 },
 "nbformat": 4,
 "nbformat_minor": 5
}
