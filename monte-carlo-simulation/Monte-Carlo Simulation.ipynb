{
 "cells": [
  {
   "cell_type": "code",
   "execution_count": null,
   "id": "adfcc471-21fe-4236-b05f-1fb82d090f10",
   "metadata": {},
   "outputs": [],
   "source": [
    "# Import Libraries\n",
    "import pandas as pd \n",
    "import numpy as np\n",
    "import datetime as dt\n",
    "import matplotlib.pyplot as plt\n",
    "import seaborn as sns\n",
    "import plotly.express as px"
   ]
  },
  {
   "cell_type": "code",
   "execution_count": null,
   "id": "8dbdd745-a231-4f53-92de-5400c257506f",
   "metadata": {
    "scrolled": true
   },
   "outputs": [],
   "source": [
    "#Import Data\n",
    "close_price_df = pd.read_csv('stock_prices.csv')\n",
    "close_price_df"
   ]
  },
  {
   "cell_type": "code",
   "execution_count": null,
   "id": "e2f9326a-a451-4aaf-83e1-1ee7e577aebb",
   "metadata": {},
   "outputs": [],
   "source": [
    "# Define a function that performs interactive data visualization using Plotly Express\n",
    "def plot_financial_data(df, title):\n",
    "    \n",
    "    fig = px.line()\n",
    "    \n",
    "    # For loop that plots all stock prices in the pandas dataframe df\n",
    "    for i in df.columns[1:]:\n",
    "        fig.add_scatter(x = df['Date'], y = df[i], name = i)\n",
    "        fig.update_traces(line_width = 5)\n",
    "        fig.update_layout({'plot_bgcolor': \"white\"})\n",
    "\n",
    "    fig.show()"
   ]
  },
  {
   "cell_type": "code",
   "execution_count": null,
   "id": "2e0ac76a-edb9-4839-8b20-a68f55581a6c",
   "metadata": {},
   "outputs": [],
   "source": [
    "# Plot closing prices using plotly Express\n",
    "plot_financial_data(close_price_df, 'Adjusted Closing Prices [$]')"
   ]
  },
  {
   "cell_type": "markdown",
   "id": "f49e54f8-c9c5-466d-982b-e3b8372b15f7",
   "metadata": {},
   "source": [
    "#### Log Returns\n",
    "\n",
    "K-period log returns:\n",
    "\n",
    "$r_t(k) = \\ln(1+R_t(k)) = \\ln[(1+R_t)(1+R_{t-1})...(1+R_{t-k+1})]$"
   ]
  },
  {
   "cell_type": "code",
   "execution_count": null,
   "id": "55cec703-cf8d-482b-bf7a-5123e83ca646",
   "metadata": {},
   "outputs": [],
   "source": [
    "# Calculation of the percentage daily return\n",
    "# Instead of the simple return, log_return is used\n",
    "# SIMPLE RETURNS: The product of normally distribution variables is NOT normally\n",
    "# LOG RETURNS: The sum of normally distributed variables follows a normal distribution\n",
    "daily_log_returns = np.log(close_price_df.iloc[:, 1:] / close_price_df.iloc[:, 1:].shift(1)).dropna()\n",
    "daily_log_returns.insert(0, 'Date', close_price_df['Date'].iloc[1:].values)\n",
    "daily_log_returns"
   ]
  },
  {
   "cell_type": "code",
   "execution_count": null,
   "id": "96637ed9-056e-4214-8991-5a46861294a0",
   "metadata": {},
   "outputs": [],
   "source": [
    "# Set up grid\n",
    "fig, axs = plt.subplots(nrows=2, ncols=5, figsize=(18, 6))\n",
    "axs = axs.flatten()\n",
    "\n",
    "# Plot histogram + KDE for each stock\n",
    "for i, col in enumerate(daily_log_returns.columns[1:]):\n",
    "    sns.histplot(daily_log_returns[col], kde=True, ax=axs[i], bins=60, color='skyblue')\n",
    "    axs[i].set_title(f'{col} Log Returns')\n",
    "    axs[i].set_xlabel('')\n",
    "    axs[i].set_ylabel('')\n",
    "\n",
    "plt.tight_layout()\n",
    "plt.show()"
   ]
  },
  {
   "cell_type": "code",
   "execution_count": null,
   "id": "0a7bf3cb-18c6-41c9-b191-9f0d7b374188",
   "metadata": {},
   "outputs": [],
   "source": [
    "# Plot the stocks daily log returns\n",
    "plot_financial_data(daily_log_returns, 'Percentage Daily Log Returns [%]')"
   ]
  },
  {
   "cell_type": "code",
   "execution_count": null,
   "id": "cb8cdb2f-adec-4a87-8ac1-e11184406185",
   "metadata": {},
   "outputs": [],
   "source": [
    "# Plot a heatmap showing the correlations between daily log returns\n",
    "# Strong positive correlations between Catterpillar and John Deere - both into heavy equipment and machinery\n",
    "# META and Google - both into Tech and Cloud Computing\n",
    "plt.figure(figsize = (10, 8))\n",
    "sns.heatmap(daily_log_returns.drop(columns = ['Date']).corr(), annot = True);"
   ]
  },
  {
   "cell_type": "code",
   "execution_count": null,
   "id": "b246f594-9fb1-440a-ac8c-ef693d060fda",
   "metadata": {},
   "outputs": [],
   "source": [
    "# Function to scale stock prices based on their initial starting price\n",
    "# The objective of this function is to set all prices to start at a value of 1 \n",
    "def price_scaling(raw_prices_df):\n",
    "    scaled_prices_df = raw_prices_df.copy()\n",
    "    for i in raw_prices_df.columns[1:]:\n",
    "          scaled_prices_df[i] = raw_prices_df[i]/raw_prices_df[i][0]\n",
    "    return scaled_prices_df"
   ]
  },
  {
   "cell_type": "code",
   "execution_count": null,
   "id": "89eb8eba-95fc-44ea-a646-01c8de645841",
   "metadata": {},
   "outputs": [],
   "source": [
    "price_scaling(close_price_df)"
   ]
  },
  {
   "cell_type": "code",
   "execution_count": null,
   "id": "81df74a7-110a-4f37-a2d1-23e2ee67dfa7",
   "metadata": {},
   "outputs": [],
   "source": [
    "# Let's create an array that holds random portfolio weights\n",
    "import random\n",
    "\n",
    "np.random.seed(444)\n",
    "def generate_portfolio_weights(n):\n",
    "    weights = []\n",
    "    for i in range(n):\n",
    "        weights.append(random.random())\n",
    "        \n",
    "    # let's make the sum of all weights add up to 1\n",
    "    weights = weights/np.sum(weights)\n",
    "    return weights"
   ]
  },
  {
   "cell_type": "code",
   "execution_count": null,
   "id": "dd72331d-5cc6-4f9e-b99a-1fe7003e9b53",
   "metadata": {},
   "outputs": [],
   "source": [
    "# Call the function\n",
    "weights = generate_portfolio_weights(10)\n",
    "print(weights)"
   ]
  },
  {
   "cell_type": "code",
   "execution_count": null,
   "id": "853ba3fe-6637-4037-add0-861f6e2f56e9",
   "metadata": {},
   "outputs": [],
   "source": [
    "# Scale stock prices using the \"price_scaling\" function that we defined earlier (make all stock values start at 1)\n",
    "portfolio_df = close_price_df.copy()\n",
    "scaled_df = price_scaling(portfolio_df)\n",
    "scaled_df"
   ]
  },
  {
   "cell_type": "code",
   "execution_count": null,
   "id": "ee14dd9e-9834-4435-964f-052d318da044",
   "metadata": {},
   "outputs": [],
   "source": [
    "# Use enumerate() method to obtain the stock names along with a counter \"i\" (0, 1, 2, 3,..etc.)\n",
    "# This counter \"i\" will be used as an index to access elements in the \"weights\" list\n",
    "\n",
    "# portfolio_df['Total Value'] = portfolio_df.iloc[:, 1:].sum(axis=1)\n",
    "\n",
    "initial_investment = 1000000\n",
    "for i, stock in enumerate(scaled_df.columns[1:]):\n",
    "    portfolio_df[stock] = weights[i] * scaled_df[stock]  * initial_investment\n",
    "portfolio_df.round(1)"
   ]
  },
  {
   "cell_type": "code",
   "execution_count": null,
   "id": "0f2fa581-6c16-4bc9-8cdb-271925d018d9",
   "metadata": {},
   "outputs": [],
   "source": [
    "# Let's create a function that receives the following arguments: \n",
    "      # (1) Stocks closing prices\n",
    "      # (2) Random weights \n",
    "      # (3) Initial investment amount\n",
    "# The function will return a DataFrame that contains the following:\n",
    "      # (1) Daily value (position) of each individual stock over the specified time period\n",
    "      # (2) Total daily value of the portfolio \n",
    "      # (3) Percentage daily return \n",
    "\n",
    "def asset_allocation(df, weights, initial_investment):\n",
    "    portfolio_df = df.copy()\n",
    "\n",
    "    # Scale stock prices using the \"price_scaling\" function that we defined earlier (Make them all start at 1)\n",
    "    scaled_df = price_scaling(df)\n",
    "  \n",
    "    for i, stock in enumerate(scaled_df.columns[1:]):\n",
    "        portfolio_df[stock] = scaled_df[stock] * weights[i] * initial_investment\n",
    "\n",
    "    # Sum up all values and place the result in a new column titled \"portfolio value [$]\" \n",
    "    # Note that we excluded the date column from this calculation\n",
    "    portfolio_df['Portfolio Value [$]'] = portfolio_df.iloc[:, 1:].sum(axis=1)\n",
    "            \n",
    "    # Calculate the portfolio percentage daily return and replace NaNs with zeros\n",
    "    portfolio_df['Portfolio Daily Return [%]'] = np.log(portfolio_df['Portfolio Value [$]'] / portfolio_df['Portfolio Value [$]'].shift(1))\n",
    "    portfolio_df['Portfolio Daily Return [%]'] = portfolio_df['Portfolio Daily Return [%]'].fillna(0)\n",
    "    \n",
    "    return portfolio_df"
   ]
  },
  {
   "cell_type": "code",
   "execution_count": null,
   "id": "f2ff7f8e-c41c-4a46-9bf2-7b5f77b24561",
   "metadata": {},
   "outputs": [],
   "source": [
    "# Now let's put this code in a function and generate random weights\n",
    "# Let's obtain the number of stocks under consideration (note that we ignored the \"Date\" column) \n",
    "n = len(close_price_df.columns)-1\n",
    "\n",
    "# Let's generate random weights \n",
    "print('Number of stocks under consideration = {}'.format(n))\n",
    "weights = generate_portfolio_weights(n).round(6)\n",
    "print('Portfolio weights = {}'.format(weights))\n",
    "\n",
    "# Let's test out the \"asset_allocation\" function\n",
    "portfolio_df = asset_allocation(close_price_df, weights, 1000000)\n",
    "portfolio_df.round(2)"
   ]
  },
  {
   "cell_type": "code",
   "execution_count": null,
   "id": "8d0b2bd3-59d8-44a6-bf3e-2297ad874117",
   "metadata": {},
   "outputs": [],
   "source": [
    "# Plot the portfolio percentage daily return\n",
    "plot_financial_data(portfolio_df[['Date', 'Portfolio Daily Return [%]']], 'Portfolio Daily Return [%]')\n",
    "\n",
    "# Plot each stock position in our portfolio over time\n",
    "# This graph shows how our initial investment in each individual stock grows over time\n",
    "plot_financial_data(portfolio_df.drop(['Portfolio Value [$]', 'Portfolio Daily Return [%]'], axis = 1), 'Portfolio positions [$]')\n",
    "\n",
    "# Plot the total daily value of the portfolio (sum of all positions)\n",
    "plot_financial_data(portfolio_df[['Date', 'Portfolio Value [$]']], 'Total Portfolio Value [$]')"
   ]
  },
  {
   "cell_type": "code",
   "execution_count": null,
   "id": "86d57908-fbac-4a18-a5d5-cc61d78111e0",
   "metadata": {},
   "outputs": [],
   "source": [
    "# Let's define the simulation engine function \n",
    "# The function receives: \n",
    "    # (1) portfolio weights\n",
    "    # (2) initial investment amount\n",
    "# The function performs asset allocation and calculates portfolio statistical metrics including Sharpe ratio\n",
    "# The function returns: \n",
    "    # (1) Expected portfolio return \n",
    "    # (2) Expected volatility \n",
    "    # (3) Sharpe ratio \n",
    "    # (4) Return on investment \n",
    "    # (5) Final portfolio value in dollars\n",
    "\n",
    "\n",
    "def simulation_engine(weights, initial_investment):\n",
    "    # Perform asset allocation using the random weights (sent as arguments to the function)\n",
    "    portfolio_df = asset_allocation(close_price_df, weights, initial_investment)\n",
    "  \n",
    "    # Calculate the return on the investment \n",
    "    # Return on investment is calculated using the last final value of the portfolio compared to its initial value\n",
    "    return_on_investment = ((portfolio_df['Portfolio Value [$]'][-1:] - \n",
    "                             portfolio_df['Portfolio Value [$]'][0])/ \n",
    "                             portfolio_df['Portfolio Value [$]'][0]) * 100\n",
    "  \n",
    "    # Daily change of every stock in the portfolio (Note that we dropped the date, portfolio daily worth and daily % returns) \n",
    "    portfolio_daily_return_df = portfolio_df.drop(columns = ['Date', 'Portfolio Value [$]', 'Portfolio Daily Return [%]'])\n",
    "    portfolio_daily_return_df = portfolio_daily_return_df.pct_change(1) \n",
    "  \n",
    "    # Portfolio Expected Return formula\n",
    "    expected_portfolio_return = np.sum(weights * portfolio_daily_return_df.mean() ) * 252\n",
    "    # expected_volatility = np.sqrt(np.dot(weights.T, np.dot(covariance, weights)))\n",
    "  \n",
    "    # Portfolio volatility (risk) formula\n",
    "    # The risk of an asset is measured using the standard deviation which indicates the dispertion away from the mean\n",
    "    # The risk of a portfolio is not a simple sum of the risks of the individual assets within the portfolio\n",
    "    # Portfolio risk must consider correlations between assets within the portfolio which is indicated by the covariance \n",
    "    # The covariance determines the relationship between the movements of two random variables\n",
    "    # When two stocks move together, they have a positive covariance when they move inversely, the have a negative covariance \n",
    "\n",
    "    covariance = portfolio_daily_return_df.cov() * 252 \n",
    "    expected_volatility = np.sqrt(np.dot(weights.T, np.dot(covariance, weights)))\n",
    "\n",
    "    # Check out the chart for the 10-years U.S. treasury at https://ycharts.com/indicators/10_year_treasury_rate\n",
    "    rf = 0.04 # Try to set the risk free rate of return to 1% (assumption)\n",
    "\n",
    "    # Calculate Sharpe ratio\n",
    "    sharpe_ratio = (expected_portfolio_return - rf)/expected_volatility \n",
    "    return expected_portfolio_return, expected_volatility, sharpe_ratio, portfolio_df['Portfolio Value [$]'][-1:].values[0], return_on_investment.values[0]\n",
    "  "
   ]
  },
  {
   "cell_type": "code",
   "execution_count": null,
   "id": "7944b2ed-f2b1-493e-a1c8-84c1ff3acb4c",
   "metadata": {},
   "outputs": [],
   "source": [
    "# Let's test out the \"simulation_engine\" function and print out statistical metrics\n",
    "# Define the initial investment amount\n",
    "initial_investment = 1000000\n",
    "portfolio_metrics = simulation_engine(weights, initial_investment)"
   ]
  },
  {
   "cell_type": "code",
   "execution_count": null,
   "id": "99290a37-e332-4172-b8a6-62d46e9394fd",
   "metadata": {},
   "outputs": [],
   "source": [
    "print('Expected Portfolio Annual Return = {:.2f}%'.format(portfolio_metrics[0] * 100))\n",
    "print('Portfolio Standard Deviation (Volatility) = {:.2f}%'.format(portfolio_metrics[1] * 100))\n",
    "print('Sharpe Ratio = {:.2f}'.format(portfolio_metrics[2]))\n",
    "print('Portfolio Final Value = ${:.2f}'.format(portfolio_metrics[3]))\n",
    "print('Return on Investment = {:.2f}%'.format(portfolio_metrics[4]))"
   ]
  },
  {
   "cell_type": "code",
   "execution_count": null,
   "id": "2bf6266c-22bd-4c49-9695-d66849963c2f",
   "metadata": {},
   "outputs": [],
   "source": [
    "# Set the number of simulation runs\n",
    "sim_runs = 10\n",
    "initial_investment = 1000000\n",
    "\n",
    "# Placeholder to store all weights\n",
    "weights_runs = np.zeros((sim_runs, n))\n",
    "\n",
    "# Placeholder to store all Sharpe ratios\n",
    "sharpe_ratio_runs = np.zeros(sim_runs)\n",
    "\n",
    "# Placeholder to store all expected returns\n",
    "expected_portfolio_returns_runs = np.zeros(sim_runs)\n",
    "\n",
    "# Placeholder to store all volatility values\n",
    "volatility_runs = np.zeros(sim_runs)\n",
    "\n",
    "# Placeholder to store all returns on investment\n",
    "return_on_investment_runs = np.zeros(sim_runs)\n",
    "\n",
    "# Placeholder to store all final portfolio values\n",
    "final_value_runs = np.zeros(sim_runs)\n",
    "\n",
    "for i in range(sim_runs):\n",
    "    # Generate random weights \n",
    "    weights = generate_portfolio_weights(n)\n",
    "    # Store the weights\n",
    "    weights_runs[i,:] = weights\n",
    "    \n",
    "    # Call \"simulation_engine\" function and store Sharpe ratio, return and volatility\n",
    "    # Note that asset allocation is performed using the \"asset_allocation\" function  \n",
    "    expected_portfolio_returns_runs[i], volatility_runs[i], sharpe_ratio_runs[i], final_value_runs[i], return_on_investment_runs[i] = simulation_engine(weights, initial_investment)\n",
    "    print(\"Simulation Run = {}\".format(i))   \n",
    "    print(\"Weights = {}, Final Value = ${:.2f}, Sharpe Ratio = {:.2f}\".format(weights_runs[i].round(3), final_value_runs[i], sharpe_ratio_runs[i]))   \n",
    "    print('\\n')\n"
   ]
  },
  {
   "cell_type": "code",
   "execution_count": null,
   "id": "896cdd8e-388c-4cfe-a1a2-0f3f88e4c5f7",
   "metadata": {},
   "outputs": [],
   "source": [
    "# List all Sharpe ratios generated from the simulation\n",
    "sharpe_ratio_runs"
   ]
  },
  {
   "cell_type": "code",
   "execution_count": null,
   "id": "bcc620be-adad-4bb2-9d0d-bba2091a4cd1",
   "metadata": {},
   "outputs": [],
   "source": [
    "# Return the index of the maximum Sharpe ratio (Best simulation run) \n",
    "sharpe_ratio_runs.argmax()"
   ]
  },
  {
   "cell_type": "code",
   "execution_count": null,
   "id": "04923753-b2fd-4768-8741-a4c88d30d352",
   "metadata": {},
   "outputs": [],
   "source": [
    "# Return the maximum Sharpe ratio value\n",
    "sharpe_ratio_runs.max()"
   ]
  },
  {
   "cell_type": "code",
   "execution_count": null,
   "id": "ae6d3855-aa4f-44a0-97f2-a280fc83c3ba",
   "metadata": {},
   "outputs": [],
   "source": [
    "weights_runs"
   ]
  },
  {
   "cell_type": "code",
   "execution_count": null,
   "id": "936f600f-f48d-43c7-a708-61d98b09b0f7",
   "metadata": {},
   "outputs": [],
   "source": [
    "# Obtain the portfolio weights that correspond to the maximum Sharpe ratio (Golden set of weights!)\n",
    "weights_runs[sharpe_ratio_runs.argmax(), :]"
   ]
  },
  {
   "cell_type": "code",
   "execution_count": null,
   "id": "ae6be924-d51a-4c33-ad68-4c4b394e2221",
   "metadata": {},
   "outputs": [],
   "source": [
    "# Return Sharpe ratio, volatility corresponding to the best weights allocation (maximum Sharpe ratio)\n",
    "optimal_portfolio_return, optimal_volatility, optimal_sharpe_ratio, highest_final_value, optimal_return_on_investment = simulation_engine(weights_runs[sharpe_ratio_runs.argmax(), :], initial_investment)"
   ]
  },
  {
   "cell_type": "code",
   "execution_count": null,
   "id": "da460323-8f74-489a-be23-d6799dfe5a5c",
   "metadata": {},
   "outputs": [],
   "source": [
    "print('Best Portfolio Metrics Based on {} Monte Carlo Simulation Runs:'.format(sim_runs))\n",
    "print('  - Portfolio Expected Annual Return = {:.02f}%'.format(optimal_portfolio_return * 100))\n",
    "print('  - Portfolio Standard Deviation (Volatility) = {:.02f}%'.format(optimal_volatility * 100))\n",
    "print('  - Sharpe Ratio = {:.02f}'.format(optimal_sharpe_ratio))\n",
    "print('  - Final Value = ${:.02f}'.format(highest_final_value))\n",
    "print('  - Return on Investment = {:.02f}%'.format(optimal_return_on_investment))"
   ]
  },
  {
   "cell_type": "code",
   "execution_count": null,
   "id": "2134e2d9-c774-4e49-8f60-702718ae7771",
   "metadata": {},
   "outputs": [],
   "source": [
    "# Create a DataFrame that contains volatility, return, and Sharpe ratio for all simualation runs\n",
    "sim_out_df = pd.DataFrame({'Volatility': volatility_runs.tolist(), 'Portfolio_Return': expected_portfolio_returns_runs.tolist(), 'Sharpe_Ratio': sharpe_ratio_runs.tolist() })\n",
    "sim_out_df"
   ]
  },
  {
   "cell_type": "code",
   "execution_count": null,
   "id": "9a8b98a8-f864-447c-8190-a3fad754b2c8",
   "metadata": {},
   "outputs": [],
   "source": [
    "# Plot volatility vs. return for all simulation runs\n",
    "# Highlight the volatility and return that corresponds to the highest Sharpe ratio\n",
    "import plotly.graph_objects as go\n",
    "fig = px.scatter(sim_out_df, x = 'Volatility', y = 'Portfolio_Return', color = 'Sharpe_Ratio', size = 'Sharpe_Ratio', hover_data = ['Sharpe_Ratio'] )\n",
    "fig.update_layout({'plot_bgcolor': \"white\"})\n",
    "fig.show()\n",
    "\n",
    "\n",
    "# Use this code if Sharpe ratio is negative\n",
    "# fig = px.scatter(sim_out_df, x = 'Volatility', y = 'Portfolio_Return', color = 'Sharpe_Ratio', hover_data = ['Sharpe_Ratio'] )\n"
   ]
  },
  {
   "cell_type": "code",
   "execution_count": null,
   "id": "649541b3-dede-45e0-9fef-8e341cba24b5",
   "metadata": {},
   "outputs": [],
   "source": [
    "# Let's highlight the point with the highest Sharpe ratio\n",
    "fig = px.scatter(sim_out_df, x = 'Volatility', y = 'Portfolio_Return', color = 'Sharpe_Ratio', size = 'Sharpe_Ratio', hover_data = ['Sharpe_Ratio'] )\n",
    "fig.add_trace(go.Scatter(x = [optimal_volatility], y = [optimal_portfolio_return], mode = 'markers', name = 'Optimal Point', marker = dict(size=[40], color = 'red')))\n",
    "fig.update_layout(coloraxis_colorbar = dict(y = 0.7, dtick = 5))\n",
    "fig.update_layout({'plot_bgcolor': \"white\"})\n",
    "fig.show()"
   ]
  },
  {
   "cell_type": "code",
   "execution_count": null,
   "id": "63d77ebd-8749-4bef-b029-b907905db223",
   "metadata": {},
   "outputs": [],
   "source": []
  },
  {
   "cell_type": "code",
   "execution_count": null,
   "id": "3aad0dfc-db5f-46ad-a0aa-e18358a6b8eb",
   "metadata": {},
   "outputs": [],
   "source": []
  },
  {
   "cell_type": "code",
   "execution_count": null,
   "id": "3fb989fc-fe1c-41a9-a5e0-14762a5d41f5",
   "metadata": {},
   "outputs": [],
   "source": []
  },
  {
   "cell_type": "code",
   "execution_count": null,
   "id": "233b4440-2425-44ee-a88a-4901ff0cb1bc",
   "metadata": {},
   "outputs": [],
   "source": []
  },
  {
   "cell_type": "code",
   "execution_count": null,
   "id": "720aac47-74a9-4639-a21c-1c22db526ea5",
   "metadata": {},
   "outputs": [],
   "source": []
  }
 ],
 "metadata": {
  "kernelspec": {
   "display_name": "Python 3 (ipykernel)",
   "language": "python",
   "name": "python3"
  },
  "language_info": {
   "codemirror_mode": {
    "name": "ipython",
    "version": 3
   },
   "file_extension": ".py",
   "mimetype": "text/x-python",
   "name": "python",
   "nbconvert_exporter": "python",
   "pygments_lexer": "ipython3",
   "version": "3.12.6"
  }
 },
 "nbformat": 4,
 "nbformat_minor": 5
}
